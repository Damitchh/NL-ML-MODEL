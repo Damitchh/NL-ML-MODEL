{
 "cells": [
  {
   "cell_type": "code",
   "execution_count": 1,
   "id": "68e95a8d",
   "metadata": {},
   "outputs": [
    {
     "data": {
      "text/html": [
       "<div>\n",
       "<style scoped>\n",
       "    .dataframe tbody tr th:only-of-type {\n",
       "        vertical-align: middle;\n",
       "    }\n",
       "\n",
       "    .dataframe tbody tr th {\n",
       "        vertical-align: top;\n",
       "    }\n",
       "\n",
       "    .dataframe thead th {\n",
       "        text-align: right;\n",
       "    }\n",
       "</style>\n",
       "<table border=\"1\" class=\"dataframe\">\n",
       "  <thead>\n",
       "    <tr style=\"text-align: right;\">\n",
       "      <th></th>\n",
       "      <th>label</th>\n",
       "      <th>rating</th>\n",
       "      <th>clean_stem</th>\n",
       "    </tr>\n",
       "  </thead>\n",
       "  <tbody>\n",
       "    <tr>\n",
       "      <th>0</th>\n",
       "      <td>1</td>\n",
       "      <td>5</td>\n",
       "      <td>['yess', 'baru', 'fitur', 'checkout', 'languag...</td>\n",
       "    </tr>\n",
       "    <tr>\n",
       "      <th>1</th>\n",
       "      <td>1</td>\n",
       "      <td>5</td>\n",
       "      <td>['yahahahaha', 'sudah', 'vaksin']</td>\n",
       "    </tr>\n",
       "    <tr>\n",
       "      <th>2</th>\n",
       "      <td>1</td>\n",
       "      <td>5</td>\n",
       "      <td>['gitulah', 'moga', 'manfaat']</td>\n",
       "    </tr>\n",
       "    <tr>\n",
       "      <th>3</th>\n",
       "      <td>1</td>\n",
       "      <td>5</td>\n",
       "      <td>['bagus']</td>\n",
       "    </tr>\n",
       "    <tr>\n",
       "      <th>4</th>\n",
       "      <td>1</td>\n",
       "      <td>5</td>\n",
       "      <td>['mendugkung', 'pedulilindungi', 'developer', ...</td>\n",
       "    </tr>\n",
       "  </tbody>\n",
       "</table>\n",
       "</div>"
      ],
      "text/plain": [
       "   label  rating                                         clean_stem\n",
       "0      1       5  ['yess', 'baru', 'fitur', 'checkout', 'languag...\n",
       "1      1       5                  ['yahahahaha', 'sudah', 'vaksin']\n",
       "2      1       5                     ['gitulah', 'moga', 'manfaat']\n",
       "3      1       5                                          ['bagus']\n",
       "4      1       5  ['mendugkung', 'pedulilindungi', 'developer', ..."
      ]
     },
     "execution_count": 1,
     "metadata": {},
     "output_type": "execute_result"
    }
   ],
   "source": [
    "import pandas as pd\n",
    "import io\n",
    " \n",
    "df = pd.read_csv('/Users/muhammadrezapulungan/Documents/Skripsi/CleanData2.csv', sep=',')\n",
    "df.head()"
   ]
  },
  {
   "cell_type": "code",
   "execution_count": 2,
   "id": "5062a80e",
   "metadata": {},
   "outputs": [
    {
     "name": "stdout",
     "output_type": "stream",
     "text": [
      "TF-IDF  <class 'scipy.sparse.csr.csr_matrix'> (634, 1237)\n"
     ]
    }
   ],
   "source": [
    "#TF-IDF Untuk 2 Sentimen\n",
    "df_PositiveNegative = df.loc[(df['label'] == -1) | (df['label'] == 1 )]\n",
    "X = df_PositiveNegative['clean_stem']\n",
    "y = df_PositiveNegative['label']\n",
    "\n",
    "from sklearn.model_selection import train_test_split\n",
    "from sklearn.feature_extraction.text import TfidfVectorizer\n",
    "\n",
    "X_train, X_test, y_train, y_test = train_test_split(X,y, test_size=0.1)\n",
    "\n",
    "\n",
    "tf_idf = TfidfVectorizer()\n",
    "\n",
    "X_train = tf_idf.fit_transform(X_train)\n",
    "X_test = tf_idf.transform(X_test)\n",
    "\n",
    "print(\"TF-IDF \", type(X_train), X_train.shape)"
   ]
  },
  {
   "cell_type": "code",
   "execution_count": 3,
   "id": "d8d2d2f7",
   "metadata": {},
   "outputs": [
    {
     "data": {
      "text/plain": [
       "RandomForestClassifier(max_depth=60, n_estimators=200)"
      ]
     },
     "execution_count": 3,
     "metadata": {},
     "output_type": "execute_result"
    }
   ],
   "source": [
    "# import treeplot\n",
    "from sklearn.ensemble import RandomForestClassifier\n",
    "\n",
    "classifier = RandomForestClassifier(n_estimators = 200, max_depth = 60)\n",
    "classifier.fit(X_train,y_train)"
   ]
  },
  {
   "cell_type": "code",
   "execution_count": 4,
   "id": "83f080b1",
   "metadata": {},
   "outputs": [
    {
     "name": "stdout",
     "output_type": "stream",
     "text": [
      "Hasil Confusion Matrix\n",
      "[[34  5]\n",
      " [ 6 26]]\n",
      "\n",
      "\n",
      "Hasil Klasifikasi\n",
      "              precision    recall  f1-score   support\n",
      "\n",
      "          -1       0.85      0.87      0.86        39\n",
      "           1       0.84      0.81      0.83        32\n",
      "\n",
      "    accuracy                           0.85        71\n",
      "   macro avg       0.84      0.84      0.84        71\n",
      "weighted avg       0.84      0.85      0.84        71\n",
      "\n",
      "\n",
      "\n",
      "Hasil K-fold\n",
      "[0.828125   0.890625   0.84375    0.84375    0.82539683 0.82539683\n",
      " 0.82539683 0.85714286 0.80952381 0.82539683]\n",
      "\n",
      "\n",
      "Rata-rata Akurasi\n",
      "0.8374503968253968\n"
     ]
    }
   ],
   "source": [
    "from sklearn.model_selection import cross_val_score\n",
    "# from sklearn.model_selection import RepeatedStratifiedKFold\n",
    "from sklearn.metrics import classification_report, confusion_matrix\n",
    "\n",
    "Y_Pred = classifier.predict(X_test)\n",
    "\n",
    "classifier_cv_score = cross_val_score(classifier, X_train, y_train, cv=10, scoring = 'accuracy')\n",
    "print(\"Hasil Confusion Matrix\")\n",
    "print(confusion_matrix(y_test, Y_Pred))\n",
    "print('\\n')\n",
    "print(\"Hasil Klasifikasi\")\n",
    "report1 = classification_report(y_test, Y_Pred, output_dict=True)\n",
    "print(classification_report(y_test, Y_Pred))\n",
    "print('\\n')\n",
    "print(\"Hasil K-fold\")\n",
    "print(classifier_cv_score)\n",
    "kfoldreport1 = classifier_cv_score\n",
    "print('\\n')\n",
    "print(\"Rata-rata Akurasi\")\n",
    "print(classifier_cv_score.mean())"
   ]
  },
  {
   "cell_type": "code",
   "execution_count": 5,
   "id": "cea9bed8",
   "metadata": {},
   "outputs": [
    {
     "data": {
      "text/plain": [
       "RandomForestClassifier(max_depth=60, n_estimators=300)"
      ]
     },
     "execution_count": 5,
     "metadata": {},
     "output_type": "execute_result"
    }
   ],
   "source": [
    "# import treeplot\n",
    "from sklearn.ensemble import RandomForestClassifier\n",
    "\n",
    "classifier = RandomForestClassifier(n_estimators = 300, max_depth = 60)\n",
    "classifier.fit(X_train,y_train)"
   ]
  },
  {
   "cell_type": "code",
   "execution_count": 6,
   "id": "9d820a54",
   "metadata": {},
   "outputs": [
    {
     "name": "stdout",
     "output_type": "stream",
     "text": [
      "Hasil Confusion Matrix\n",
      "[[34  5]\n",
      " [ 6 26]]\n",
      "\n",
      "\n",
      "Hasil Klasifikasi\n",
      "              precision    recall  f1-score   support\n",
      "\n",
      "          -1       0.85      0.87      0.86        39\n",
      "           1       0.84      0.81      0.83        32\n",
      "\n",
      "    accuracy                           0.85        71\n",
      "   macro avg       0.84      0.84      0.84        71\n",
      "weighted avg       0.84      0.85      0.84        71\n",
      "\n",
      "\n",
      "\n",
      "Hasil K-fold\n",
      "[0.859375   0.921875   0.84375    0.828125   0.82539683 0.82539683\n",
      " 0.80952381 0.87301587 0.79365079 0.80952381]\n",
      "\n",
      "\n",
      "Rata-rata Akurasi\n",
      "0.8389632936507937\n"
     ]
    }
   ],
   "source": [
    "from sklearn.model_selection import cross_val_score\n",
    "# from sklearn.model_selection import RepeatedStratifiedKFold\n",
    "from sklearn.metrics import classification_report, confusion_matrix\n",
    "\n",
    "Y_Pred = classifier.predict(X_test)\n",
    "\n",
    "classifier_cv_score = cross_val_score(classifier, X_train, y_train, cv=10, scoring = 'accuracy')\n",
    "print(\"Hasil Confusion Matrix\")\n",
    "print(confusion_matrix(y_test, Y_Pred))\n",
    "print('\\n')\n",
    "print(\"Hasil Klasifikasi\")\n",
    "report2 = classification_report(y_test, Y_Pred, output_dict=True)\n",
    "print(classification_report(y_test, Y_Pred))\n",
    "print('\\n')\n",
    "print(\"Hasil K-fold\")\n",
    "print(classifier_cv_score)\n",
    "kfoldreport2 = classifier_cv_score\n",
    "print('\\n')\n",
    "print(\"Rata-rata Akurasi\")\n",
    "print(classifier_cv_score.mean())"
   ]
  },
  {
   "cell_type": "code",
   "execution_count": 7,
   "id": "8e2645a6",
   "metadata": {},
   "outputs": [
    {
     "data": {
      "text/plain": [
       "RandomForestClassifier(max_depth=60, n_estimators=400)"
      ]
     },
     "execution_count": 7,
     "metadata": {},
     "output_type": "execute_result"
    }
   ],
   "source": [
    "# import treeplot\n",
    "from sklearn.ensemble import RandomForestClassifier\n",
    "\n",
    "classifier = RandomForestClassifier(n_estimators = 400, max_depth = 60)\n",
    "classifier.fit(X_train,y_train)"
   ]
  },
  {
   "cell_type": "code",
   "execution_count": 8,
   "id": "4a68f8fe",
   "metadata": {},
   "outputs": [
    {
     "name": "stdout",
     "output_type": "stream",
     "text": [
      "Hasil Confusion Matrix\n",
      "[[34  5]\n",
      " [ 5 27]]\n",
      "\n",
      "\n",
      "Hasil Klasifikasi\n",
      "              precision    recall  f1-score   support\n",
      "\n",
      "          -1       0.87      0.87      0.87        39\n",
      "           1       0.84      0.84      0.84        32\n",
      "\n",
      "    accuracy                           0.86        71\n",
      "   macro avg       0.86      0.86      0.86        71\n",
      "weighted avg       0.86      0.86      0.86        71\n",
      "\n",
      "\n",
      "\n",
      "Hasil K-fold\n",
      "[0.84375    0.890625   0.84375    0.78125    0.80952381 0.80952381\n",
      " 0.84126984 0.84126984 0.79365079 0.80952381]\n",
      "\n",
      "\n",
      "Rata-rata Akurasi\n",
      "0.8264136904761905\n"
     ]
    }
   ],
   "source": [
    "from sklearn.model_selection import cross_val_score\n",
    "# from sklearn.model_selection import RepeatedStratifiedKFold\n",
    "from sklearn.metrics import classification_report, confusion_matrix\n",
    "\n",
    "Y_Pred = classifier.predict(X_test)\n",
    "\n",
    "classifier_cv_score = cross_val_score(classifier, X_train, y_train, cv=10, scoring = 'accuracy')\n",
    "print(\"Hasil Confusion Matrix\")\n",
    "print(confusion_matrix(y_test, Y_Pred))\n",
    "print('\\n')\n",
    "print(\"Hasil Klasifikasi\")\n",
    "report3 = classification_report(y_test, Y_Pred, output_dict=True)\n",
    "print(classification_report(y_test, Y_Pred))\n",
    "print('\\n')\n",
    "print(\"Hasil K-fold\")\n",
    "print(classifier_cv_score)\n",
    "kfoldreport3 = classifier_cv_score\n",
    "print('\\n')\n",
    "print(\"Rata-rata Akurasi\")\n",
    "print(classifier_cv_score.mean())"
   ]
  },
  {
   "cell_type": "code",
   "execution_count": 9,
   "id": "047f28b2",
   "metadata": {},
   "outputs": [
    {
     "data": {
      "text/plain": [
       "RandomForestClassifier(max_depth=60, n_estimators=500)"
      ]
     },
     "execution_count": 9,
     "metadata": {},
     "output_type": "execute_result"
    }
   ],
   "source": [
    "# import treeplot\n",
    "from sklearn.ensemble import RandomForestClassifier\n",
    "\n",
    "classifier = RandomForestClassifier(n_estimators = 500, max_depth = 60)\n",
    "classifier.fit(X_train,y_train)"
   ]
  },
  {
   "cell_type": "code",
   "execution_count": 10,
   "id": "7c588e0a",
   "metadata": {},
   "outputs": [
    {
     "name": "stdout",
     "output_type": "stream",
     "text": [
      "Hasil Confusion Matrix\n",
      "[[34  5]\n",
      " [ 6 26]]\n",
      "\n",
      "\n",
      "Hasil Klasifikasi\n",
      "              precision    recall  f1-score   support\n",
      "\n",
      "          -1       0.85      0.87      0.86        39\n",
      "           1       0.84      0.81      0.83        32\n",
      "\n",
      "    accuracy                           0.85        71\n",
      "   macro avg       0.84      0.84      0.84        71\n",
      "weighted avg       0.84      0.85      0.84        71\n",
      "\n",
      "\n",
      "\n",
      "Hasil K-fold\n",
      "[0.828125   0.875      0.84375    0.828125   0.82539683 0.80952381\n",
      " 0.79365079 0.88888889 0.77777778 0.82539683]\n",
      "\n",
      "\n",
      "Rata-rata Akurasi\n",
      "0.8295634920634921\n"
     ]
    }
   ],
   "source": [
    "from sklearn.model_selection import cross_val_score\n",
    "# from sklearn.model_selection import RepeatedStratifiedKFold\n",
    "from sklearn.metrics import classification_report, confusion_matrix\n",
    "\n",
    "Y_Pred = classifier.predict(X_test)\n",
    "\n",
    "classifier_cv_score = cross_val_score(classifier, X_train, y_train, cv=10, scoring = 'accuracy')\n",
    "print(\"Hasil Confusion Matrix\")\n",
    "print(confusion_matrix(y_test, Y_Pred))\n",
    "print('\\n')\n",
    "print(\"Hasil Klasifikasi\")\n",
    "report4 = classification_report(y_test, Y_Pred, output_dict=True)\n",
    "print(classification_report(y_test, Y_Pred))\n",
    "print('\\n')\n",
    "print(\"Hasil K-fold\")\n",
    "print(classifier_cv_score)\n",
    "kfoldreport4 = classifier_cv_score\n",
    "print('\\n')\n",
    "print(\"Rata-rata Akurasi\")\n",
    "print(classifier_cv_score.mean())"
   ]
  },
  {
   "cell_type": "code",
   "execution_count": 11,
   "id": "b198d082",
   "metadata": {},
   "outputs": [
    {
     "data": {
      "text/plain": [
       "RandomForestClassifier(max_depth=60, n_estimators=600)"
      ]
     },
     "execution_count": 11,
     "metadata": {},
     "output_type": "execute_result"
    }
   ],
   "source": [
    "# import treeplot\n",
    "from sklearn.ensemble import RandomForestClassifier\n",
    "\n",
    "classifier = RandomForestClassifier(n_estimators = 600, max_depth = 60)\n",
    "classifier.fit(X_train,y_train)"
   ]
  },
  {
   "cell_type": "code",
   "execution_count": 12,
   "id": "f0921512",
   "metadata": {},
   "outputs": [
    {
     "name": "stdout",
     "output_type": "stream",
     "text": [
      "Hasil Confusion Matrix\n",
      "[[34  5]\n",
      " [ 6 26]]\n",
      "\n",
      "\n",
      "Hasil Klasifikasi\n",
      "              precision    recall  f1-score   support\n",
      "\n",
      "          -1       0.85      0.87      0.86        39\n",
      "           1       0.84      0.81      0.83        32\n",
      "\n",
      "    accuracy                           0.85        71\n",
      "   macro avg       0.84      0.84      0.84        71\n",
      "weighted avg       0.84      0.85      0.84        71\n",
      "\n",
      "\n",
      "\n",
      "Hasil K-fold\n",
      "[0.875      0.921875   0.84375    0.796875   0.80952381 0.80952381\n",
      " 0.80952381 0.88888889 0.79365079 0.82539683]\n",
      "\n",
      "\n",
      "Rata-rata Akurasi\n",
      "0.8374007936507937\n"
     ]
    }
   ],
   "source": [
    "from sklearn.model_selection import cross_val_score\n",
    "# from sklearn.model_selection import RepeatedStratifiedKFold\n",
    "from sklearn.metrics import classification_report, confusion_matrix\n",
    "\n",
    "Y_Pred = classifier.predict(X_test)\n",
    "\n",
    "classifier_cv_score = cross_val_score(classifier, X_train, y_train, cv=10, scoring = 'accuracy')\n",
    "print(\"Hasil Confusion Matrix\")\n",
    "print(confusion_matrix(y_test, Y_Pred))\n",
    "print('\\n')\n",
    "print(\"Hasil Klasifikasi\")\n",
    "report5 = classification_report(y_test, Y_Pred, output_dict=True)\n",
    "print(classification_report(y_test, Y_Pred))\n",
    "print('\\n')\n",
    "print(\"Hasil K-fold\")\n",
    "print(classifier_cv_score)\n",
    "kfoldreport5 = classifier_cv_score\n",
    "print('\\n')\n",
    "print(\"Rata-rata Akurasi\")\n",
    "print(classifier_cv_score.mean())"
   ]
  },
  {
   "cell_type": "code",
   "execution_count": 13,
   "id": "41aa7b3f",
   "metadata": {},
   "outputs": [],
   "source": [
    "dfhasil1 = pd.DataFrame(report1).transpose()\n",
    "dfhasil2 = pd.DataFrame(report2).transpose()\n",
    "dfhasil3 = pd.DataFrame(report3).transpose()\n",
    "dfhasil4 = pd.DataFrame(report4).transpose()\n",
    "dfhasil5 = pd.DataFrame(report5).transpose()\n",
    "\n",
    "dfhasilkfold1 = pd.DataFrame(kfoldreport1).transpose()\n",
    "dfhasilkfold2 = pd.DataFrame(kfoldreport2).transpose()\n",
    "dfhasilkfold3 = pd.DataFrame(kfoldreport3).transpose()\n",
    "dfhasilkfold4 = pd.DataFrame(kfoldreport4).transpose()\n",
    "dfhasilkfold5 = pd.DataFrame(kfoldreport5).transpose()\n",
    "\n",
    "dfhasilkfold1.to_excel('/Users/muhammadrezapulungan/Documents/Skripsi/kedalamantree/kfoldhasil1.xlsx' ,index = False)\n",
    "dfhasilkfold2.to_excel('/Users/muhammadrezapulungan/Documents/Skripsi/kedalamantree/kfoldhasil2.xlsx' ,index = False)\n",
    "dfhasilkfold3.to_excel('/Users/muhammadrezapulungan/Documents/Skripsi/kedalamantree/kfoldhasil3.xlsx' ,index = False)\n",
    "dfhasilkfold4.to_excel('/Users/muhammadrezapulungan/Documents/Skripsi/kedalamantree/kfoldhasil4.xlsx' ,index = False)\n",
    "dfhasilkfold5.to_excel('/Users/muhammadrezapulungan/Documents/Skripsi/kedalamantree/kfoldhasil5.xlsx' ,index = False)\n",
    "\n",
    "dfhasil1.to_excel('/Users/muhammadrezapulungan/Documents/Skripsi/kedalamantree/hasil1.xlsx' ,index = False)\n",
    "dfhasil2.to_excel('/Users/muhammadrezapulungan/Documents/Skripsi/kedalamantree/hasil2.xlsx' ,index = False)\n",
    "dfhasil3.to_excel('/Users/muhammadrezapulungan/Documents/Skripsi/kedalamantree/hasil3.xlsx' ,index = False)\n",
    "dfhasil4.to_excel('/Users/muhammadrezapulungan/Documents/Skripsi/kedalamantree/hasil4.xlsx' ,index = False)\n",
    "dfhasil5.to_excel('/Users/muhammadrezapulungan/Documents/Skripsi/kedalamantree/hasil5.xlsx' ,index = False)"
   ]
  },
  {
   "cell_type": "code",
   "execution_count": null,
   "id": "bea49ea7",
   "metadata": {},
   "outputs": [],
   "source": []
  }
 ],
 "metadata": {
  "kernelspec": {
   "display_name": "Python 3 (ipykernel)",
   "language": "python",
   "name": "python3"
  },
  "language_info": {
   "codemirror_mode": {
    "name": "ipython",
    "version": 3
   },
   "file_extension": ".py",
   "mimetype": "text/x-python",
   "name": "python",
   "nbconvert_exporter": "python",
   "pygments_lexer": "ipython3",
   "version": "3.9.12"
  }
 },
 "nbformat": 4,
 "nbformat_minor": 5
}
