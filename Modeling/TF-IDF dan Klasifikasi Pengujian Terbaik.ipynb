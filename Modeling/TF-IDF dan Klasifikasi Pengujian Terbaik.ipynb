{
 "cells": [
  {
   "cell_type": "code",
   "execution_count": 1,
   "id": "68e95a8d",
   "metadata": {},
   "outputs": [
    {
     "data": {
      "text/html": [
       "<div>\n",
       "<style scoped>\n",
       "    .dataframe tbody tr th:only-of-type {\n",
       "        vertical-align: middle;\n",
       "    }\n",
       "\n",
       "    .dataframe tbody tr th {\n",
       "        vertical-align: top;\n",
       "    }\n",
       "\n",
       "    .dataframe thead th {\n",
       "        text-align: right;\n",
       "    }\n",
       "</style>\n",
       "<table border=\"1\" class=\"dataframe\">\n",
       "  <thead>\n",
       "    <tr style=\"text-align: right;\">\n",
       "      <th></th>\n",
       "      <th>label</th>\n",
       "      <th>rating</th>\n",
       "      <th>clean_stem</th>\n",
       "    </tr>\n",
       "  </thead>\n",
       "  <tbody>\n",
       "    <tr>\n",
       "      <th>0</th>\n",
       "      <td>1</td>\n",
       "      <td>5</td>\n",
       "      <td>['yess', 'baru', 'fitur', 'checkout', 'languag...</td>\n",
       "    </tr>\n",
       "    <tr>\n",
       "      <th>1</th>\n",
       "      <td>1</td>\n",
       "      <td>5</td>\n",
       "      <td>['yahahahaha', 'sudah', 'vaksin']</td>\n",
       "    </tr>\n",
       "    <tr>\n",
       "      <th>2</th>\n",
       "      <td>1</td>\n",
       "      <td>5</td>\n",
       "      <td>['gitulah', 'moga', 'manfaat']</td>\n",
       "    </tr>\n",
       "    <tr>\n",
       "      <th>3</th>\n",
       "      <td>1</td>\n",
       "      <td>5</td>\n",
       "      <td>['bagus']</td>\n",
       "    </tr>\n",
       "    <tr>\n",
       "      <th>4</th>\n",
       "      <td>1</td>\n",
       "      <td>5</td>\n",
       "      <td>['mendugkung', 'pedulilindungi', 'developer', ...</td>\n",
       "    </tr>\n",
       "  </tbody>\n",
       "</table>\n",
       "</div>"
      ],
      "text/plain": [
       "   label  rating                                         clean_stem\n",
       "0      1       5  ['yess', 'baru', 'fitur', 'checkout', 'languag...\n",
       "1      1       5                  ['yahahahaha', 'sudah', 'vaksin']\n",
       "2      1       5                     ['gitulah', 'moga', 'manfaat']\n",
       "3      1       5                                          ['bagus']\n",
       "4      1       5  ['mendugkung', 'pedulilindungi', 'developer', ..."
      ]
     },
     "execution_count": 1,
     "metadata": {},
     "output_type": "execute_result"
    }
   ],
   "source": [
    "import pandas as pd\n",
    "import io\n",
    " \n",
    "df = pd.read_csv('/Users/muhammadrezapulungan/Documents/Skripsi/CleanData2.csv', sep=',')\n",
    "df.head()"
   ]
  },
  {
   "cell_type": "code",
   "execution_count": 2,
   "id": "99bd66ab",
   "metadata": {},
   "outputs": [],
   "source": [
    "#TF-IDF Untuk 3 Sentimen\n",
    "X = df['clean_stem']\n",
    "y = df['label']\n",
    "\n",
    "from sklearn.model_selection import train_test_split\n",
    "from sklearn.feature_extraction.text import TfidfVectorizer\n",
    "\n",
    "X_train, X_test, y_train, y_test = train_test_split(X,y, test_size=0.1)\n",
    "\n",
    "\n",
    "tf_idf = TfidfVectorizer()\n",
    "\n",
    "X_train = tf_idf.fit_transform(X_train)\n",
    "X_test = tf_idf.transform(X_test)\n"
   ]
  },
  {
   "cell_type": "code",
   "execution_count": 3,
   "id": "d8d2d2f7",
   "metadata": {},
   "outputs": [
    {
     "data": {
      "text/plain": [
       "RandomForestClassifier(max_depth=60, n_estimators=500)"
      ]
     },
     "execution_count": 3,
     "metadata": {},
     "output_type": "execute_result"
    }
   ],
   "source": [
    "# import treeplot\n",
    "from sklearn.ensemble import RandomForestClassifier\n",
    "\n",
    "classifier = RandomForestClassifier(n_estimators = 500, max_depth = 60)\n",
    "classifier.fit(X_train,y_train)"
   ]
  },
  {
   "cell_type": "code",
   "execution_count": 4,
   "id": "83f080b1",
   "metadata": {},
   "outputs": [
    {
     "name": "stdout",
     "output_type": "stream",
     "text": [
      "Hasil Confusion Matrix\n",
      "[[26  7  4]\n",
      " [11 16  6]\n",
      " [ 4  2 27]]\n",
      "\n",
      "\n",
      "Hasil Klasifikasi\n",
      "              precision    recall  f1-score   support\n",
      "\n",
      "          -1       0.63      0.70      0.67        37\n",
      "           0       0.64      0.48      0.55        33\n",
      "           1       0.73      0.82      0.77        33\n",
      "\n",
      "    accuracy                           0.67       103\n",
      "   macro avg       0.67      0.67      0.66       103\n",
      "weighted avg       0.67      0.67      0.66       103\n",
      "\n",
      "\n",
      "\n",
      "Hasil K-fold\n",
      "[0.69892473 0.69565217 0.56521739 0.68478261 0.61956522 0.58695652\n",
      " 0.75       0.64130435 0.57608696 0.63043478]\n",
      "\n",
      "\n",
      "Rata-rata Akurasi\n",
      "0.6448924731182795\n"
     ]
    }
   ],
   "source": [
    "from sklearn.model_selection import cross_val_score\n",
    "# from sklearn.model_selection import RepeatedStratifiedKFold\n",
    "from sklearn.metrics import classification_report, confusion_matrix\n",
    "\n",
    "Y_Pred = classifier.predict(X_test)\n",
    "\n",
    "classifier_cv_score = cross_val_score(classifier, X_train, y_train, cv=10, scoring = 'accuracy')\n",
    "print(\"Hasil Confusion Matrix\")\n",
    "print(confusion_matrix(y_test, Y_Pred))\n",
    "print('\\n')\n",
    "print(\"Hasil Klasifikasi\")\n",
    "report1 = classification_report(y_test, Y_Pred, output_dict=True)\n",
    "print(classification_report(y_test, Y_Pred))\n",
    "print('\\n')\n",
    "print(\"Hasil K-fold\")\n",
    "print(classifier_cv_score)\n",
    "kfoldreport1 = classifier_cv_score\n",
    "print('\\n')\n",
    "print(\"Rata-rata Akurasi\")\n",
    "print(classifier_cv_score.mean())"
   ]
  },
  {
   "cell_type": "code",
   "execution_count": null,
   "id": "990c3bb7",
   "metadata": {},
   "outputs": [],
   "source": []
  }
 ],
 "metadata": {
  "kernelspec": {
   "display_name": "Python 3 (ipykernel)",
   "language": "python",
   "name": "python3"
  },
  "language_info": {
   "codemirror_mode": {
    "name": "ipython",
    "version": 3
   },
   "file_extension": ".py",
   "mimetype": "text/x-python",
   "name": "python",
   "nbconvert_exporter": "python",
   "pygments_lexer": "ipython3",
   "version": "3.9.12"
  }
 },
 "nbformat": 4,
 "nbformat_minor": 5
}
