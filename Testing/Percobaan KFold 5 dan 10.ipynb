{
 "cells": [
  {
   "cell_type": "code",
   "execution_count": 1,
   "id": "eaf876d5",
   "metadata": {},
   "outputs": [
    {
     "name": "stdout",
     "output_type": "stream",
     "text": [
      "TF-IDF  <class 'scipy.sparse.csr.csr_matrix'> (921, 1628)\n"
     ]
    }
   ],
   "source": [
    "import pandas as pd\n",
    "import io\n",
    " \n",
    "df = pd.read_csv('/Users/muhammadrezapulungan/Documents/Skripsi/CleanData2.csv', sep=',')\n",
    "df.head()\n",
    "\n",
    "X = df['clean_stem']\n",
    "y = df['label']\n",
    "\n",
    "from sklearn.model_selection import train_test_split\n",
    "from sklearn.feature_extraction.text import TfidfVectorizer\n",
    "\n",
    "X_train, X_test, y_train, y_test = train_test_split(X,y, test_size=0.1)\n",
    "\n",
    "\n",
    "tf_idf = TfidfVectorizer()\n",
    "\n",
    "X_train = tf_idf.fit_transform(X_train)\n",
    "X_test = tf_idf.transform(X_test)\n",
    "\n",
    "print(\"TF-IDF \", type(X_train), X_train.shape)"
   ]
  },
  {
   "cell_type": "code",
   "execution_count": 2,
   "id": "ea3ee9a3",
   "metadata": {},
   "outputs": [
    {
     "name": "stdout",
     "output_type": "stream",
     "text": [
      "Hasil Confusion Matrix\n",
      "[[17  7 10]\n",
      " [ 8 20  8]\n",
      " [ 4  1 28]]\n",
      "\n",
      "\n",
      "Hasil Klasifikasi\n",
      "              precision    recall  f1-score   support\n",
      "\n",
      "          -1       0.59      0.50      0.54        34\n",
      "           0       0.71      0.56      0.63        36\n",
      "           1       0.61      0.85      0.71        33\n",
      "\n",
      "    accuracy                           0.63       103\n",
      "   macro avg       0.64      0.63      0.62       103\n",
      "weighted avg       0.64      0.63      0.62       103\n",
      "\n",
      "\n",
      "\n",
      "Hasil K-fold\n",
      "[0.67027027 0.6576087  0.58695652 0.70108696 0.61956522]\n",
      "\n",
      "\n",
      "Rata-rata Akurasi\n",
      "0.6470975323149236\n"
     ]
    }
   ],
   "source": [
    "# import treeplot\n",
    "from sklearn.ensemble import RandomForestClassifier\n",
    "\n",
    "classifier = RandomForestClassifier(n_estimators = 300, max_depth = 60)\n",
    "classifier.fit(X_train,y_train)\n",
    "\n",
    "from sklearn.model_selection import cross_val_score\n",
    "# from sklearn.model_selection import RepeatedStratifiedKFold\n",
    "from sklearn.metrics import classification_report, confusion_matrix\n",
    "\n",
    "Y_Pred = classifier.predict(X_test)\n",
    "\n",
    "classifier_cv_score = cross_val_score(classifier, X_train, y_train, cv=5, scoring = 'accuracy')\n",
    "print(\"Hasil Confusion Matrix\")\n",
    "print(confusion_matrix(y_test, Y_Pred))\n",
    "print('\\n')\n",
    "print(\"Hasil Klasifikasi\")\n",
    "report1 = classification_report(y_test, Y_Pred, output_dict=True)\n",
    "print(classification_report(y_test, Y_Pred))\n",
    "print('\\n')\n",
    "print(\"Hasil K-fold\")\n",
    "print(classifier_cv_score)\n",
    "kfoldreport1 = classifier_cv_score\n",
    "print('\\n')\n",
    "print(\"Rata-rata Akurasi\")\n",
    "print(classifier_cv_score.mean())"
   ]
  },
  {
   "cell_type": "code",
   "execution_count": 3,
   "id": "a93f40a1",
   "metadata": {},
   "outputs": [
    {
     "name": "stdout",
     "output_type": "stream",
     "text": [
      "Hasil Confusion Matrix\n",
      "[[15  8 11]\n",
      " [ 8 20  8]\n",
      " [ 4  1 28]]\n",
      "\n",
      "\n",
      "Hasil Klasifikasi\n",
      "              precision    recall  f1-score   support\n",
      "\n",
      "          -1       0.56      0.44      0.49        34\n",
      "           0       0.69      0.56      0.62        36\n",
      "           1       0.60      0.85      0.70        33\n",
      "\n",
      "    accuracy                           0.61       103\n",
      "   macro avg       0.61      0.62      0.60       103\n",
      "weighted avg       0.62      0.61      0.60       103\n",
      "\n",
      "\n",
      "\n",
      "Hasil K-fold\n",
      "[0.66666667 0.63043478 0.65217391 0.67391304 0.67391304 0.54347826\n",
      " 0.73913043 0.67391304 0.63043478 0.57608696]\n",
      "\n",
      "\n",
      "Rata-rata Akurasi\n",
      "0.6460144927536231\n"
     ]
    }
   ],
   "source": [
    "# import treeplot\n",
    "from sklearn.ensemble import RandomForestClassifier\n",
    "\n",
    "classifier = RandomForestClassifier(n_estimators = 300, max_depth = 60)\n",
    "classifier.fit(X_train,y_train)\n",
    "\n",
    "from sklearn.model_selection import cross_val_score\n",
    "# from sklearn.model_selection import RepeatedStratifiedKFold\n",
    "from sklearn.metrics import classification_report, confusion_matrix\n",
    "\n",
    "Y_Pred = classifier.predict(X_test)\n",
    "\n",
    "classifier_cv_score = cross_val_score(classifier, X_train, y_train, cv=10, scoring = 'accuracy')\n",
    "print(\"Hasil Confusion Matrix\")\n",
    "print(confusion_matrix(y_test, Y_Pred))\n",
    "print('\\n')\n",
    "print(\"Hasil Klasifikasi\")\n",
    "report1 = classification_report(y_test, Y_Pred, output_dict=True)\n",
    "print(classification_report(y_test, Y_Pred))\n",
    "print('\\n')\n",
    "print(\"Hasil K-fold\")\n",
    "print(classifier_cv_score)\n",
    "kfoldreport2 = classifier_cv_score\n",
    "print('\\n')\n",
    "print(\"Rata-rata Akurasi\")\n",
    "print(classifier_cv_score.mean())"
   ]
  },
  {
   "cell_type": "code",
   "execution_count": 5,
   "id": "f2285bf1",
   "metadata": {},
   "outputs": [],
   "source": [
    "dfhasilkfold1 = pd.DataFrame(kfoldreport1).transpose()\n",
    "dfhasilkfold2 = pd.DataFrame(kfoldreport2).transpose()\n",
    "\n",
    "dfhasilkfold1.to_excel('/Users/muhammadrezapulungan/Documents/Skripsi/kedalamantree/kfoldhasil1.xlsx' ,index = False)\n",
    "dfhasilkfold2.to_excel('/Users/muhammadrezapulungan/Documents/Skripsi/kedalamantree/kfoldhasil2.xlsx' ,index = False)"
   ]
  },
  {
   "cell_type": "code",
   "execution_count": null,
   "id": "fbc708f0",
   "metadata": {},
   "outputs": [],
   "source": []
  }
 ],
 "metadata": {
  "kernelspec": {
   "display_name": "Python 3 (ipykernel)",
   "language": "python",
   "name": "python3"
  },
  "language_info": {
   "codemirror_mode": {
    "name": "ipython",
    "version": 3
   },
   "file_extension": ".py",
   "mimetype": "text/x-python",
   "name": "python",
   "nbconvert_exporter": "python",
   "pygments_lexer": "ipython3",
   "version": "3.9.12"
  }
 },
 "nbformat": 4,
 "nbformat_minor": 5
}
